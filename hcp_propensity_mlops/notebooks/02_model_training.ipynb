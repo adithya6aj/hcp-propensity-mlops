{
 "cells": [
  {
   "cell_type": "code",
   "execution_count": null,
   "id": "271c0aa8",
   "metadata": {},
   "outputs": [],
   "source": [
    "# Databricks notebook: 02_model_training\n",
    "\n",
    "import pandas as pd\n",
    "from sklearn.linear_model import LogisticRegression\n",
    "from sklearn.model_selection import train_test_split\n",
    "from sklearn.metrics import accuracy_score\n",
    "import mlflow\n",
    "import mlflow.sklearn\n",
    "\n",
    "# Load data\n",
    "df = pd.read_csv(\"/dbfs/tmp/hcp_data.csv\")\n",
    "X = df.drop(\"target\", axis=1)\n",
    "y = df[\"target\"]\n",
    "\n",
    "# Train/test split\n",
    "X_train, X_test, y_train, y_test = train_test_split(X, y, random_state=42)\n",
    "\n",
    "# Train model\n",
    "model = LogisticRegression()\n",
    "model.fit(X_train, y_train)\n",
    "acc = accuracy_score(y_test, model.predict(X_test))\n",
    "\n",
    "# Log to MLflow\n",
    "mlflow.set_tracking_uri(\"http://localhost:5000\")  # Or your actual URI\n",
    "mlflow.set_experiment(\"hcp-propensity-experiment\")\n",
    "\n",
    "with mlflow.start_run():\n",
    "    mlflow.log_param(\"model\", \"LogisticRegression\")\n",
    "    mlflow.log_metric(\"accuracy\", acc)\n",
    "    mlflow.sklearn.log_model(model, \"hcp-propensity-model\")\n",
    "\n",
    "print(f\"Model trained and logged with accuracy: {acc}\")"
   ]
  }
 ],
 "metadata": {
  "language_info": {
   "name": "python"
  }
 },
 "nbformat": 4,
 "nbformat_minor": 5
}
