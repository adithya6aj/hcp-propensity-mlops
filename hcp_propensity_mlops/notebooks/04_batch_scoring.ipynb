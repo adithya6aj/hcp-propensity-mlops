{
 "cells": [
  {
   "cell_type": "code",
   "execution_count": null,
   "id": "05352c88",
   "metadata": {},
   "outputs": [],
   "source": [
    "# Databricks notebook: 04_batch_scoring\n",
    "\n",
    "import pandas as pd\n",
    "import mlflow\n",
    "import mlflow.sklearn\n",
    "\n",
    "df = pd.read_csv(\"/dbfs/tmp/hcp_data.csv\")\n",
    "X = df.drop(\"target\", axis=1)\n",
    "\n",
    "mlflow.set_tracking_uri(\"http://localhost:5000\")\n",
    "model = mlflow.sklearn.load_model(\"models:/hcp-propensity-model/latest\")\n",
    "\n",
    "preds = model.predict_proba(X)[:, 1]\n",
    "print(preds[:10])\n"
   ]
  }
 ],
 "metadata": {
  "language_info": {
   "name": "python"
  }
 },
 "nbformat": 4,
 "nbformat_minor": 5
}
